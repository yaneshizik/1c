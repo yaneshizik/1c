{
 "cells": [
  {
   "cell_type": "code",
   "execution_count": 174,
   "metadata": {},
   "outputs": [],
   "source": [
    "import numpy as np \n",
    "from PIL import Image, ImageDraw\n",
    "try:\n",
    "    image = Image.open(\"test.png\")\n",
    "    width = img.size[0]  \n",
    "    height = img.size[1]\n",
    "    pix = np.array(img)\n",
    "    draw = ImageDraw.Draw(image)\n",
    "except FileNotFoundError:  \n",
    "    print(\"Файл не найден\")"
   ]
  },
  {
   "cell_type": "code",
   "execution_count": 156,
   "metadata": {},
   "outputs": [],
   "source": [
    "k = 0\n",
    "for y in range (height):\n",
    "    for x in range (width): \n",
    "        if ((pix[y][x][0] == 0) & (pix[y][x][1] == 0) & (pix[y][x][2] == 0)  & (k == 0)):\n",
    "            min_w = x\n",
    "            min_h = y\n",
    "            k+=1\n",
    "        if ((pix[y][x][0] != 0) & (pix[y][x][1] != 0) & (pix[y][x][2] != 0)  & (k == 1)):\n",
    "            ln_a = x - min_w - 1\n",
    "            k+=1\n",
    "for x in range (min_w + ln_a + 1, width):\n",
    "    if ((pix[min_h][x][0] == 0) & (pix[min_h][x][1] == 0) & (pix[min_h][x][2] == 0)):\n",
    "            max_w = x\n",
    "            break\n",
    "ln_b = max_w - min_w - ln_a\n",
    "if (ln_b % 2 != 0):\n",
    "    ln_bb = ln_b - 1"
   ]
  },
  {
   "cell_type": "code",
   "execution_count": 157,
   "metadata": {},
   "outputs": [],
   "source": [
    "A = [[0] * 3 for i in range(3)]"
   ]
  },
  {
   "cell_type": "code",
   "execution_count": 158,
   "metadata": {},
   "outputs": [],
   "source": [
    "c_00x = min_w - ln_bb//2 \n",
    "c_00y = min_h + ln_bb//2 \n",
    "c_01x = c_00x + ln_a + ln_b\n",
    "c_02x = c_01x + ln_a + ln_b\n",
    "c_10y = c_00y + ln_b + ln_a\n",
    "c_20y = c_10y + ln_b + ln_a"
   ]
  },
  {
   "cell_type": "code",
   "execution_count": 159,
   "metadata": {},
   "outputs": [],
   "source": [
    "if ((pix[c_00y][c_00x][0] == 0) & (pix[c_00y][c_00x][1] == 0) & (pix[c_00y][c_00x][2] == 0)):\n",
    "    A[0][0] = 2\n",
    "if ((pix[c_00y][c_01x][0] == 0) & (pix[c_00y][c_01x][1] == 0) & (pix[c_00y][c_01x][2] == 0)):\n",
    "    A[0][1] = 2\n",
    "if ((pix[c_00y][c_02x][0] == 0) & (pix[c_00y][c_02x][1] == 0) & (pix[c_00y][c_02x][2] == 0)):\n",
    "    A[0][2] = 2\n",
    "if ((pix[c_10y][c_00x][0] == 0) & (pix[c_10y][c_00x][1] == 0) & (pix[c_10y][c_00x][2] == 0)):\n",
    "    A[1][0] = 2\n",
    "if ((pix[c_10y][c_01x][0] == 0) & (pix[c_10y][c_01x][1] == 0) & (pix[c_10y][c_01x][2] == 0)):\n",
    "    A[1][1] = 2\n",
    "if ((pix[c_10y][c_02x][0] == 0) & (pix[c_10y][c_02x][1] == 0) & (pix[c_10y][c_02x][2] == 0)):\n",
    "    A[1][2] = 2\n",
    "if ((pix[c_20y][c_00x][0] == 0) & (pix[c_20y][c_00x][1] == 0) & (pix[c_20y][c_00x][2] == 0)):\n",
    "    A[2][0] = 2\n",
    "if ((pix[c_20y][c_01x][0] == 0) & (pix[c_20y][c_01x][1] == 0) & (pix[c_20y][c_01x][2] == 0)):\n",
    "    A[2][1] = 2\n",
    "if ((pix[c_20y][c_02x][0] == 0) & (pix[c_20y][c_02x][1] == 0) & (pix[c_20y][c_02x][2] == 0)):\n",
    "    A[2][2] = 2"
   ]
  },
  {
   "cell_type": "code",
   "execution_count": 160,
   "metadata": {},
   "outputs": [
    {
     "data": {
      "text/plain": [
       "[[0, 0, 0], [2, 0, 0], [0, 0, 2]]"
      ]
     },
     "execution_count": 160,
     "metadata": {},
     "output_type": "execute_result"
    }
   ],
   "source": [
    "A"
   ]
  },
  {
   "cell_type": "code",
   "execution_count": 161,
   "metadata": {},
   "outputs": [],
   "source": [
    "for y in range (c_00y, c_00y + ln_bb//2):\n",
    "    for x in range (c_00x, c_00x + ln_bb//2):\n",
    "        if((pix[y][x][0] == 0) & (pix[y][x][1] == 0) & (pix[y][x][2] == 0) & (A[0][0] != 2)):\n",
    "            A[0][0] = 1\n",
    "for y in range (c_00y, c_00y + ln_bb//2):\n",
    "    for x in range (c_01x, c_01x + ln_bb//2):\n",
    "        if((pix[y][x][0] == 0) & (pix[y][x][1] == 0) & (pix[y][x][2] == 0) & (A[0][1] != 2)):\n",
    "            A[0][1] = 1\n",
    "for y in range (c_00y, c_00y + ln_bb//2):\n",
    "    for x in range (c_02x, c_02x + ln_bb//2):\n",
    "        if((pix[y][x][0] == 0) & (pix[y][x][1] == 0) & (pix[y][x][2] == 0) & (A[0][2] != 2)):\n",
    "            A[0][2] = 1\n",
    "for y in range (c_10y, c_10y + ln_bb//2):\n",
    "    for x in range (c_00x, c_00x + ln_bb//2):\n",
    "        if((pix[y][x][0] == 0) & (pix[y][x][1] == 0) & (pix[y][x][2] == 0) & (A[1][0] != 2)):\n",
    "            A[1][0] = 1\n",
    "for y in range (c_10y, c_10y + ln_bb//2):\n",
    "    for x in range (c_01x, c_01x + ln_bb//2):\n",
    "        if((pix[y][x][0] == 0) & (pix[y][x][1] == 0) & (pix[y][x][2] == 0) & (A[1][1] != 2)):\n",
    "            A[1][1] = 1\n",
    "for y in range (c_10y, c_10y + ln_bb//2):\n",
    "    for x in range (c_02x, c_02x + ln_bb//2):\n",
    "        if((pix[y][x][0] == 0) & (pix[y][x][1] == 0) & (pix[y][x][2] == 0) & (A[1][2] != 2)):\n",
    "            A[1][2] = 1\n",
    "for y in range (c_20y, c_20y + ln_bb//2):\n",
    "    for x in range (c_00x, c_00x + ln_bb//2):\n",
    "        if((pix[y][x][0] == 0) & (pix[y][x][1] == 0) & (pix[y][x][2] == 0) & (A[2][0] != 2)):\n",
    "            A[2][0] = 1\n",
    "for y in range (c_20y, c_20y + ln_bb//2):\n",
    "    for x in range (c_01x, c_01x + ln_bb//2):\n",
    "        if((pix[y][x][0] == 0) & (pix[y][x][1] == 0) & (pix[y][x][2] == 0) & (A[2][1] != 2)):\n",
    "            A[2][1] = 1\n",
    "for y in range (c_20y, c_20y + ln_bb//2):\n",
    "    for x in range (c_02x, c_02x + ln_bb//2):\n",
    "        if((pix[y][x][0] == 0) & (pix[y][x][1] == 0) & (pix[y][x][2] == 0) & (A[2][2] != 2)):\n",
    "            A[2][2] = 1"
   ]
  },
  {
   "cell_type": "code",
   "execution_count": 162,
   "metadata": {},
   "outputs": [
    {
     "data": {
      "text/plain": [
       "[[0, 0, 1], [2, 1, 0], [1, 0, 2]]"
      ]
     },
     "execution_count": 162,
     "metadata": {},
     "output_type": "execute_result"
    }
   ],
   "source": [
    "A"
   ]
  },
  {
   "cell_type": "code",
   "execution_count": 152,
   "metadata": {},
   "outputs": [
    {
     "name": "stdout",
     "output_type": "stream",
     "text": [
      "2\n"
     ]
    }
   ],
   "source": [
    "if (A[0][0] == A[0][1] == A[0][2]):\n",
    "    print(\"1\")\n",
    "else:\n",
    "    print(\"2\")"
   ]
  },
  {
   "cell_type": "code",
   "execution_count": 176,
   "metadata": {},
   "outputs": [],
   "source": [
    "if (A[0][0] == A[0][1] == A[0][2]):\n",
    "    draw.line((c_00x - ln_bb//2, c_00y, c_02x + ln_bb//2, c_00y), fill=(0, 0, 0, 255), width=3)\n",
    "    del draw\n",
    "    image.save(\"test.png\", \"PNG\")\n",
    "elif (A[1][0] == A[1][1] == A[1][2]):\n",
    "    draw.line((c_00x - ln_bb//2, c_10y, c_02x + ln_bb//2, c_10y), fill=(0, 0, 0, 255), width=3)\n",
    "    del draw\n",
    "    image.save(\"test.png\", \"PNG\")\n",
    "elif (A[2][0] == A[2][1] == A[2][2]):\n",
    "    draw.line((c_00x - ln_bb//2, c_20y, c_02x + ln_bb//2, c_20y), fill=(0, 0, 0, 255), width=3)\n",
    "    del draw\n",
    "    image.save(\"test.png\", \"PNG\")\n",
    "elif (A[0][0] == A[1][0] == A[2][0]):\n",
    "    draw.line((c_00x, c_00y - ln_bb//2, c_00x, c_20y + ln_bb//2), fill=(0, 0, 0, 255), width=3)\n",
    "    del draw\n",
    "    image.save(\"test.png\", \"PNG\")\n",
    "elif (A[0][1] == A[1][1] == A[1][2]):\n",
    "    draw.line((c_01x, c_00y - ln_bb//2, c_01x, c_20y + ln_bb//2), fill=(0, 0, 0, 255), width=3)\n",
    "    del draw\n",
    "    image.save(\"test.png\", \"PNG\")\n",
    "elif (A[2][0] == A[2][1] == A[2][2]):\n",
    "    draw.line((c_02x, c_00y - ln_bb//2, c_02x, c_20y + ln_bb//2), fill=(0, 0, 0, 255), width=3)\n",
    "    del draw\n",
    "    image.save(\"test.png\", \"PNG\")\n",
    "elif (A[0][0] == A[1][1] == A[2][2]):\n",
    "    draw.line((c_00x - ln_bb//2, c_00y - ln_bb//2, c_02x + ln_bb//2, c_20y + ln_bb//2), fill=(0, 0, 0, 255), width=3)\n",
    "    del draw\n",
    "    image.save(\"test.png\", \"PNG\")\n",
    "elif (A[2][0] == A[1][1] == A[0][2]):\n",
    "    draw.line((c_00x - ln_bb//2, c_20y + ln_bb//2, c_02x + ln_bb//2, c_00y - ln_bb//2), fill=(0, 0, 0, 255), width=3)\n",
    "    del draw\n",
    "    image.save(\"test.png\", \"PNG\")\n",
    "elif (A[1][0] == A[1][1] == A[1][2]):\n",
    "    draw.line((c_00x - ln_bb//2, c_10y - ln_bb//2, c_02x + ln_bb//2, c_10y + ln_bb//2), fill=(0, 0, 0, 255), width=3)\n",
    "    del draw\n",
    "    image.save(\"test.png\", \"PNG\")\n",
    "elif (A[0][1] == A[1][1] == A[2][1]):\n",
    "    draw.line((c_01x - ln_bb//2, c_00y - ln_bb//2, c_01x + ln_bb//2, c_20y + ln_bb//2), fill=(0, 0, 0, 255), width=3)\n",
    "    del draw\n",
    "    image.save(\"test.png\", \"PNG\")\n",
    "else:\n",
    "    print(\"WE LOSE!\")"
   ]
  },
  {
   "cell_type": "code",
   "execution_count": null,
   "metadata": {},
   "outputs": [],
   "source": []
  },
  {
   "cell_type": "code",
   "execution_count": 69,
   "metadata": {},
   "outputs": [],
   "source": [
    "for x in range(min_x, width):\n",
    "        if not ((arr[min_y][x][0] == 0) and (arr[y][x][1] == 0) and (arr[y][x][2] == 0) and (arr[y][x][3] <= 255)):\n",
    "            ln_a = x - min_x\n"
   ]
  },
  {
   "cell_type": "code",
   "execution_count": 16,
   "metadata": {},
   "outputs": [
    {
     "ename": "NameError",
     "evalue": "name 'min_y' is not defined",
     "output_type": "error",
     "traceback": [
      "\u001b[1;31m---------------------------------------------------------------------------\u001b[0m",
      "\u001b[1;31mNameError\u001b[0m                                 Traceback (most recent call last)",
      "\u001b[1;32m<ipython-input-16-639f25a0307e>\u001b[0m in \u001b[0;36m<module>\u001b[1;34m\u001b[0m\n\u001b[1;32m----> 1\u001b[1;33m \u001b[0mmin_y\u001b[0m\u001b[1;33m\u001b[0m\u001b[1;33m\u001b[0m\u001b[0m\n\u001b[0m\u001b[0;32m      2\u001b[0m \u001b[0mmin_y\u001b[0m\u001b[1;33m\u001b[0m\u001b[1;33m\u001b[0m\u001b[0m\n\u001b[0;32m      3\u001b[0m \u001b[0mmax_x\u001b[0m\u001b[1;33m\u001b[0m\u001b[1;33m\u001b[0m\u001b[0m\n\u001b[0;32m      4\u001b[0m \u001b[0mmax_x\u001b[0m\u001b[1;33m\u001b[0m\u001b[1;33m\u001b[0m\u001b[0m\n\u001b[0;32m      5\u001b[0m \u001b[0mline_width\u001b[0m\u001b[1;33m\u001b[0m\u001b[1;33m\u001b[0m\u001b[0m\n",
      "\u001b[1;31mNameError\u001b[0m: name 'min_y' is not defined"
     ]
    }
   ],
   "source": [
    "min_y\n",
    "min_y\n",
    "max_x\n",
    "max_x\n",
    "line_width\n"
   ]
  },
  {
   "cell_type": "code",
   "execution_count": 75,
   "metadata": {},
   "outputs": [
    {
     "data": {
      "text/plain": [
       "array([  0,   0,   0, 255], dtype=uint8)"
      ]
     },
     "execution_count": 75,
     "metadata": {},
     "output_type": "execute_result"
    }
   ],
   "source": [
    "arr[278][270]"
   ]
  },
  {
   "cell_type": "code",
   "execution_count": 74,
   "metadata": {},
   "outputs": [
    {
     "data": {
      "text/plain": [
       "511"
      ]
     },
     "execution_count": 74,
     "metadata": {},
     "output_type": "execute_result"
    }
   ],
   "source": [
    "min_y"
   ]
  },
  {
   "cell_type": "code",
   "execution_count": 70,
   "metadata": {},
   "outputs": [
    {
     "data": {
      "text/plain": [
       "553"
      ]
     },
     "execution_count": 70,
     "metadata": {},
     "output_type": "execute_result"
    }
   ],
   "source": [
    "line_width"
   ]
  },
  {
   "cell_type": "code",
   "execution_count": null,
   "metadata": {},
   "outputs": [],
   "source": []
  }
 ],
 "metadata": {
  "kernelspec": {
   "display_name": "Python 3",
   "language": "python",
   "name": "python3"
  },
  "language_info": {
   "codemirror_mode": {
    "name": "ipython",
    "version": 3
   },
   "file_extension": ".py",
   "mimetype": "text/x-python",
   "name": "python",
   "nbconvert_exporter": "python",
   "pygments_lexer": "ipython3",
   "version": "3.7.7"
  }
 },
 "nbformat": 4,
 "nbformat_minor": 4
}
